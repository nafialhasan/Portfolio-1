{
 "cells": [
  {
   "cell_type": "markdown",
   "id": "skHfgkqlqndO",
   "metadata": {
    "id": "skHfgkqlqndO"
   },
   "source": [
    "### Analysis of an E-commerce Dataset\n",
    "\n",
    "We have been provided with a combined e-commerce dataset. In this dataset, each user has the ability to post a rating and review for the products they purchased. Additionally, other users can evaluate the initial rating and review by expressing their trust or distrust.\n",
    "\n",
    "This dataset includes a wealth of information for each user. Details such as their profile, ID, gender, city of birth, product ratings (on a scale of 1-5), reviews, and the prices of the products they purchased are all included. Moreover, for each product rating, we have information about the product name, ID, price, and category, the rating score, the timestamp of the rating and review, and the average helpfulness of the rating given by others (on a scale of 1-5).\n",
    "\n",
    "The dataset is from several data sources, and we have merged all the data into a single CSV file named 'A Combined E-commerce Dataset.csv'. The structure of this dataset is represented in the header shown below.\n",
    "\n",
    "| userId | gender | rating | review| item | category | helpfulness | timestamp | item_id | item_price | user_city|\n",
    "\n",
    "    | ---- | ---- | ---- | ---- | ---- | ---- | ---- | ---- | ---- |  ---- |  ---- |  \n",
    "    \n",
    "#### Description of Fields\n",
    "\n",
    "* __userId__ - the user's id\n",
    "* __gender__ - the user's gender\n",
    "* __rating__ - the user's rating towards the item\n",
    "* __review__ - the user's review towards the item\n",
    "* __item__ - the item's name\n",
    "* __category__ - the category of the item\n",
    "* __helpfulness__ - the average helpfulness of this rating\n",
    "* __timestamp__ - the timestamp when the rating is created\n",
    "* __item_id__ - the item's id\n",
    "* __item_price__ - the item's price\n",
    "* __user_city__ - the city of user's birth\n",
    "\n",
    "Note that, a user may rate multiple items and an item may receive ratings and reviews from multiple users. The \"helpfulness\" is an average value based on all the helpfulness values given by others.\n",
    "\n",
    "There are four questions to explore with the data as shown below.\n",
    "\n",
    "\n",
    "\n",
    "<img src=\"data-relation.png\" align=\"left\" width=\"400\"/>\n",
    "(You can find the data relation diagram on iLearn - Portfolio Part 1 resources - Fig1)\n"
   ]
  },
  {
   "cell_type": "markdown",
   "id": "8a26dd79-f32b-4f72-9c45-318866a2f5e4",
   "metadata": {},
   "source": [
    "### Name: Nafi Al - Hasan"
   ]
  },
  {
   "cell_type": "code",
   "execution_count": 238,
   "id": "c2dfbcc4-74e4-46ce-b782-e994fe5ae859",
   "metadata": {},
   "outputs": [],
   "source": [
    "# importing \"pandas\", \"numpy\", and \"matplotlib\"\n",
    "\n",
    "import pandas as pd\n",
    "import numpy as np\n",
    "import matplotlib.pyplot as plt\n",
    "import seaborn as sns"
   ]
  },
  {
   "cell_type": "code",
   "execution_count": 239,
   "id": "626d3861-4c29-4867-a486-d22885ef57e7",
   "metadata": {},
   "outputs": [],
   "source": [
    "# reading the csv file\n",
    "\n",
    "ecomm_data = pd.read_csv(\"The E-commerce Dataset.csv\")"
   ]
  },
  {
   "cell_type": "code",
   "execution_count": 240,
   "id": "4b86736b-b56b-4fad-92e0-96b3df28af6c",
   "metadata": {},
   "outputs": [
    {
     "data": {
      "text/html": [
       "<div>\n",
       "<style scoped>\n",
       "    .dataframe tbody tr th:only-of-type {\n",
       "        vertical-align: middle;\n",
       "    }\n",
       "\n",
       "    .dataframe tbody tr th {\n",
       "        vertical-align: top;\n",
       "    }\n",
       "\n",
       "    .dataframe thead th {\n",
       "        text-align: right;\n",
       "    }\n",
       "</style>\n",
       "<table border=\"1\" class=\"dataframe\">\n",
       "  <thead>\n",
       "    <tr style=\"text-align: right;\">\n",
       "      <th></th>\n",
       "      <th>userId</th>\n",
       "      <th>timestamp</th>\n",
       "      <th>rating</th>\n",
       "      <th>helpfulness</th>\n",
       "      <th>item_id</th>\n",
       "      <th>item_price</th>\n",
       "      <th>user_city</th>\n",
       "    </tr>\n",
       "  </thead>\n",
       "  <tbody>\n",
       "    <tr>\n",
       "      <th>count</th>\n",
       "      <td>20000.000000</td>\n",
       "      <td>20000.000000</td>\n",
       "      <td>19983.000000</td>\n",
       "      <td>19978.000000</td>\n",
       "      <td>20000.000000</td>\n",
       "      <td>20000.000000</td>\n",
       "      <td>20000.000000</td>\n",
       "    </tr>\n",
       "    <tr>\n",
       "      <th>mean</th>\n",
       "      <td>5500.909450</td>\n",
       "      <td>59025.503550</td>\n",
       "      <td>3.701847</td>\n",
       "      <td>2.596306</td>\n",
       "      <td>41.789950</td>\n",
       "      <td>82.180847</td>\n",
       "      <td>19.393200</td>\n",
       "    </tr>\n",
       "    <tr>\n",
       "      <th>std</th>\n",
       "      <td>3343.265765</td>\n",
       "      <td>37967.900334</td>\n",
       "      <td>1.404619</td>\n",
       "      <td>1.750681</td>\n",
       "      <td>27.271524</td>\n",
       "      <td>42.242699</td>\n",
       "      <td>11.626928</td>\n",
       "    </tr>\n",
       "    <tr>\n",
       "      <th>min</th>\n",
       "      <td>0.000000</td>\n",
       "      <td>10100.000000</td>\n",
       "      <td>1.000000</td>\n",
       "      <td>0.000000</td>\n",
       "      <td>0.000000</td>\n",
       "      <td>12.000000</td>\n",
       "      <td>0.000000</td>\n",
       "    </tr>\n",
       "    <tr>\n",
       "      <th>25%</th>\n",
       "      <td>1995.750000</td>\n",
       "      <td>21500.000000</td>\n",
       "      <td>3.000000</td>\n",
       "      <td>0.000000</td>\n",
       "      <td>17.000000</td>\n",
       "      <td>48.250000</td>\n",
       "      <td>9.000000</td>\n",
       "    </tr>\n",
       "    <tr>\n",
       "      <th>50%</th>\n",
       "      <td>5898.000000</td>\n",
       "      <td>52701.000000</td>\n",
       "      <td>4.000000</td>\n",
       "      <td>4.000000</td>\n",
       "      <td>41.000000</td>\n",
       "      <td>72.000000</td>\n",
       "      <td>19.000000</td>\n",
       "    </tr>\n",
       "    <tr>\n",
       "      <th>75%</th>\n",
       "      <td>8408.250000</td>\n",
       "      <td>91600.000000</td>\n",
       "      <td>5.000000</td>\n",
       "      <td>4.000000</td>\n",
       "      <td>65.000000</td>\n",
       "      <td>126.500000</td>\n",
       "      <td>29.000000</td>\n",
       "    </tr>\n",
       "    <tr>\n",
       "      <th>max</th>\n",
       "      <td>10808.000000</td>\n",
       "      <td>123199.000000</td>\n",
       "      <td>5.000000</td>\n",
       "      <td>4.000000</td>\n",
       "      <td>88.000000</td>\n",
       "      <td>149.000000</td>\n",
       "      <td>39.000000</td>\n",
       "    </tr>\n",
       "  </tbody>\n",
       "</table>\n",
       "</div>"
      ],
      "text/plain": [
       "             userId      timestamp        rating   helpfulness       item_id  \\\n",
       "count  20000.000000   20000.000000  19983.000000  19978.000000  20000.000000   \n",
       "mean    5500.909450   59025.503550      3.701847      2.596306     41.789950   \n",
       "std     3343.265765   37967.900334      1.404619      1.750681     27.271524   \n",
       "min        0.000000   10100.000000      1.000000      0.000000      0.000000   \n",
       "25%     1995.750000   21500.000000      3.000000      0.000000     17.000000   \n",
       "50%     5898.000000   52701.000000      4.000000      4.000000     41.000000   \n",
       "75%     8408.250000   91600.000000      5.000000      4.000000     65.000000   \n",
       "max    10808.000000  123199.000000      5.000000      4.000000     88.000000   \n",
       "\n",
       "         item_price     user_city  \n",
       "count  20000.000000  20000.000000  \n",
       "mean      82.180847     19.393200  \n",
       "std       42.242699     11.626928  \n",
       "min       12.000000      0.000000  \n",
       "25%       48.250000      9.000000  \n",
       "50%       72.000000     19.000000  \n",
       "75%      126.500000     29.000000  \n",
       "max      149.000000     39.000000  "
      ]
     },
     "execution_count": 240,
     "metadata": {},
     "output_type": "execute_result"
    }
   ],
   "source": [
    "# summary of the dataset\n",
    "\n",
    "ecomm_data.describe()"
   ]
  },
  {
   "cell_type": "code",
   "execution_count": 241,
   "id": "4ad8a620-2842-490c-bea8-6136764e01f9",
   "metadata": {},
   "outputs": [
    {
     "data": {
      "text/plain": [
       "(20000, 11)"
      ]
     },
     "execution_count": 241,
     "metadata": {},
     "output_type": "execute_result"
    }
   ],
   "source": [
    "# finding the number of rows and columns present in the dataset\n",
    "\n",
    "ecomm_data.shape"
   ]
  },
  {
   "cell_type": "code",
   "execution_count": 242,
   "id": "3cf6b85f-1336-49e8-aecb-c8be7bd3f034",
   "metadata": {},
   "outputs": [
    {
     "data": {
      "text/plain": [
       "Index(['userId', 'timestamp', 'review', 'item', 'rating', 'helpfulness',\n",
       "       'gender', 'category', 'item_id', 'item_price', 'user_city'],\n",
       "      dtype='object')"
      ]
     },
     "execution_count": 242,
     "metadata": {},
     "output_type": "execute_result"
    }
   ],
   "source": [
    "# list of columns\n",
    "\n",
    "ecomm_data.columns"
   ]
  },
  {
   "cell_type": "code",
   "execution_count": 243,
   "id": "cc86d929-fdf4-4a7e-a395-4e0eee0334f6",
   "metadata": {},
   "outputs": [
    {
     "data": {
      "text/html": [
       "<div>\n",
       "<style scoped>\n",
       "    .dataframe tbody tr th:only-of-type {\n",
       "        vertical-align: middle;\n",
       "    }\n",
       "\n",
       "    .dataframe tbody tr th {\n",
       "        vertical-align: top;\n",
       "    }\n",
       "\n",
       "    .dataframe thead th {\n",
       "        text-align: right;\n",
       "    }\n",
       "</style>\n",
       "<table border=\"1\" class=\"dataframe\">\n",
       "  <thead>\n",
       "    <tr style=\"text-align: right;\">\n",
       "      <th></th>\n",
       "      <th>userId</th>\n",
       "      <th>timestamp</th>\n",
       "      <th>review</th>\n",
       "      <th>item</th>\n",
       "      <th>rating</th>\n",
       "      <th>helpfulness</th>\n",
       "      <th>gender</th>\n",
       "      <th>category</th>\n",
       "      <th>item_id</th>\n",
       "      <th>item_price</th>\n",
       "      <th>user_city</th>\n",
       "    </tr>\n",
       "  </thead>\n",
       "  <tbody>\n",
       "    <tr>\n",
       "      <th>0</th>\n",
       "      <td>4051</td>\n",
       "      <td>12807</td>\n",
       "      <td>Great job for what it is!</td>\n",
       "      <td>eBay</td>\n",
       "      <td>5.0</td>\n",
       "      <td>2.0</td>\n",
       "      <td>F</td>\n",
       "      <td>Online Stores &amp; Services</td>\n",
       "      <td>88</td>\n",
       "      <td>149.00</td>\n",
       "      <td>39</td>\n",
       "    </tr>\n",
       "    <tr>\n",
       "      <th>1</th>\n",
       "      <td>4052</td>\n",
       "      <td>122899</td>\n",
       "      <td>Free Access Worth your Time</td>\n",
       "      <td>NetZero</td>\n",
       "      <td>5.0</td>\n",
       "      <td>0.0</td>\n",
       "      <td>F</td>\n",
       "      <td>Online Stores &amp; Services</td>\n",
       "      <td>46</td>\n",
       "      <td>53.00</td>\n",
       "      <td>39</td>\n",
       "    </tr>\n",
       "    <tr>\n",
       "      <th>2</th>\n",
       "      <td>33</td>\n",
       "      <td>12700</td>\n",
       "      <td>AOL..I love you!!!!!!!!!!!!</td>\n",
       "      <td>AOL (America Online)</td>\n",
       "      <td>5.0</td>\n",
       "      <td>4.0</td>\n",
       "      <td>F</td>\n",
       "      <td>Online Stores &amp; Services</td>\n",
       "      <td>0</td>\n",
       "      <td>145.84</td>\n",
       "      <td>31</td>\n",
       "    </tr>\n",
       "    <tr>\n",
       "      <th>3</th>\n",
       "      <td>33</td>\n",
       "      <td>21000</td>\n",
       "      <td>EBAY!!!  I LOVE YOU!!!! :-)*</td>\n",
       "      <td>eBay</td>\n",
       "      <td>5.0</td>\n",
       "      <td>4.0</td>\n",
       "      <td>F</td>\n",
       "      <td>Online Stores &amp; Services</td>\n",
       "      <td>88</td>\n",
       "      <td>149.00</td>\n",
       "      <td>31</td>\n",
       "    </tr>\n",
       "    <tr>\n",
       "      <th>4</th>\n",
       "      <td>33</td>\n",
       "      <td>22300</td>\n",
       "      <td>Blair Witch...Oh Come On.......</td>\n",
       "      <td>Blair Witch Project</td>\n",
       "      <td>1.0</td>\n",
       "      <td>4.0</td>\n",
       "      <td>F</td>\n",
       "      <td>Movies</td>\n",
       "      <td>12</td>\n",
       "      <td>44.00</td>\n",
       "      <td>31</td>\n",
       "    </tr>\n",
       "    <tr>\n",
       "      <th>5</th>\n",
       "      <td>33</td>\n",
       "      <td>30100</td>\n",
       "      <td>What is the &amp;quot;Matrix&amp;quot; Great Movie</td>\n",
       "      <td>Matrix</td>\n",
       "      <td>4.0</td>\n",
       "      <td>0.0</td>\n",
       "      <td>F</td>\n",
       "      <td>Movies</td>\n",
       "      <td>40</td>\n",
       "      <td>24.51</td>\n",
       "      <td>31</td>\n",
       "    </tr>\n",
       "    <tr>\n",
       "      <th>6</th>\n",
       "      <td>33</td>\n",
       "      <td>32100</td>\n",
       "      <td>Go down under Mateys!!!!!</td>\n",
       "      <td>Outback Steakhouse</td>\n",
       "      <td>5.0</td>\n",
       "      <td>4.0</td>\n",
       "      <td>F</td>\n",
       "      <td>Restaurants &amp; Gourmet</td>\n",
       "      <td>50</td>\n",
       "      <td>25.00</td>\n",
       "      <td>31</td>\n",
       "    </tr>\n",
       "    <tr>\n",
       "      <th>7</th>\n",
       "      <td>33</td>\n",
       "      <td>52800</td>\n",
       "      <td>E-commerce..what do I do???</td>\n",
       "      <td>PayPal</td>\n",
       "      <td>4.0</td>\n",
       "      <td>0.0</td>\n",
       "      <td>F</td>\n",
       "      <td>Personal Finance</td>\n",
       "      <td>52</td>\n",
       "      <td>38.00</td>\n",
       "      <td>31</td>\n",
       "    </tr>\n",
       "    <tr>\n",
       "      <th>8</th>\n",
       "      <td>33</td>\n",
       "      <td>52800</td>\n",
       "      <td>A man who remade himself..</td>\n",
       "      <td>Wendy's</td>\n",
       "      <td>5.0</td>\n",
       "      <td>0.0</td>\n",
       "      <td>F</td>\n",
       "      <td>Restaurants &amp; Gourmet</td>\n",
       "      <td>84</td>\n",
       "      <td>69.00</td>\n",
       "      <td>31</td>\n",
       "    </tr>\n",
       "    <tr>\n",
       "      <th>9</th>\n",
       "      <td>4053</td>\n",
       "      <td>22304</td>\n",
       "      <td>The best on the web.</td>\n",
       "      <td>Amazon.com</td>\n",
       "      <td>5.0</td>\n",
       "      <td>3.0</td>\n",
       "      <td>F</td>\n",
       "      <td>Online Stores &amp; Services</td>\n",
       "      <td>3</td>\n",
       "      <td>129.82</td>\n",
       "      <td>22</td>\n",
       "    </tr>\n",
       "  </tbody>\n",
       "</table>\n",
       "</div>"
      ],
      "text/plain": [
       "   userId  timestamp                                      review  \\\n",
       "0    4051      12807                   Great job for what it is!   \n",
       "1    4052     122899                 Free Access Worth your Time   \n",
       "2      33      12700               AOL..I love you!!!!!!!!!!!!     \n",
       "3      33      21000                EBAY!!!  I LOVE YOU!!!! :-)*   \n",
       "4      33      22300             Blair Witch...Oh Come On.......   \n",
       "5      33      30100  What is the &quot;Matrix&quot; Great Movie   \n",
       "6      33      32100                   Go down under Mateys!!!!!   \n",
       "7      33      52800                 E-commerce..what do I do???   \n",
       "8      33      52800                  A man who remade himself..   \n",
       "9    4053      22304                        The best on the web.   \n",
       "\n",
       "                   item  rating  helpfulness gender                  category  \\\n",
       "0                  eBay     5.0          2.0      F  Online Stores & Services   \n",
       "1               NetZero     5.0          0.0      F  Online Stores & Services   \n",
       "2  AOL (America Online)     5.0          4.0      F  Online Stores & Services   \n",
       "3                  eBay     5.0          4.0      F  Online Stores & Services   \n",
       "4   Blair Witch Project     1.0          4.0      F                    Movies   \n",
       "5                Matrix     4.0          0.0      F                    Movies   \n",
       "6    Outback Steakhouse     5.0          4.0      F     Restaurants & Gourmet   \n",
       "7                PayPal     4.0          0.0      F          Personal Finance   \n",
       "8               Wendy's     5.0          0.0      F     Restaurants & Gourmet   \n",
       "9            Amazon.com     5.0          3.0      F  Online Stores & Services   \n",
       "\n",
       "   item_id  item_price  user_city  \n",
       "0       88      149.00         39  \n",
       "1       46       53.00         39  \n",
       "2        0      145.84         31  \n",
       "3       88      149.00         31  \n",
       "4       12       44.00         31  \n",
       "5       40       24.51         31  \n",
       "6       50       25.00         31  \n",
       "7       52       38.00         31  \n",
       "8       84       69.00         31  \n",
       "9        3      129.82         22  "
      ]
     },
     "execution_count": 243,
     "metadata": {},
     "output_type": "execute_result"
    }
   ],
   "source": [
    "# first 10 rows of the dataset\n",
    "\n",
    "ecomm_data.head(10)"
   ]
  },
  {
   "cell_type": "code",
   "execution_count": 244,
   "id": "ad0e9a11-24ce-4380-b156-f314f3db1855",
   "metadata": {},
   "outputs": [
    {
     "data": {
      "text/html": [
       "<div>\n",
       "<style scoped>\n",
       "    .dataframe tbody tr th:only-of-type {\n",
       "        vertical-align: middle;\n",
       "    }\n",
       "\n",
       "    .dataframe tbody tr th {\n",
       "        vertical-align: top;\n",
       "    }\n",
       "\n",
       "    .dataframe thead th {\n",
       "        text-align: right;\n",
       "    }\n",
       "</style>\n",
       "<table border=\"1\" class=\"dataframe\">\n",
       "  <thead>\n",
       "    <tr style=\"text-align: right;\">\n",
       "      <th></th>\n",
       "      <th>userId</th>\n",
       "      <th>timestamp</th>\n",
       "      <th>review</th>\n",
       "      <th>item</th>\n",
       "      <th>rating</th>\n",
       "      <th>helpfulness</th>\n",
       "      <th>gender</th>\n",
       "      <th>category</th>\n",
       "      <th>item_id</th>\n",
       "      <th>item_price</th>\n",
       "      <th>user_city</th>\n",
       "    </tr>\n",
       "  </thead>\n",
       "  <tbody>\n",
       "    <tr>\n",
       "      <th>19990</th>\n",
       "      <td>2445</td>\n",
       "      <td>101400</td>\n",
       "      <td>Great Service.</td>\n",
       "      <td>PayPal</td>\n",
       "      <td>5.0</td>\n",
       "      <td>3.0</td>\n",
       "      <td>M</td>\n",
       "      <td>Personal Finance</td>\n",
       "      <td>52</td>\n",
       "      <td>38.00</td>\n",
       "      <td>5</td>\n",
       "    </tr>\n",
       "    <tr>\n",
       "      <th>19991</th>\n",
       "      <td>2445</td>\n",
       "      <td>101400</td>\n",
       "      <td>An Okay Movie</td>\n",
       "      <td>What Lies Beneath</td>\n",
       "      <td>2.0</td>\n",
       "      <td>0.0</td>\n",
       "      <td>M</td>\n",
       "      <td>Movies</td>\n",
       "      <td>85</td>\n",
       "      <td>145.00</td>\n",
       "      <td>5</td>\n",
       "    </tr>\n",
       "    <tr>\n",
       "      <th>19992</th>\n",
       "      <td>10805</td>\n",
       "      <td>11900</td>\n",
       "      <td>R.I.P</td>\n",
       "      <td>MTV</td>\n",
       "      <td>1.0</td>\n",
       "      <td>4.0</td>\n",
       "      <td>F</td>\n",
       "      <td>Media</td>\n",
       "      <td>39</td>\n",
       "      <td>138.00</td>\n",
       "      <td>18</td>\n",
       "    </tr>\n",
       "    <tr>\n",
       "      <th>19993</th>\n",
       "      <td>10805</td>\n",
       "      <td>12000</td>\n",
       "      <td>Leave them be...</td>\n",
       "      <td>Teletubbies</td>\n",
       "      <td>5.0</td>\n",
       "      <td>4.0</td>\n",
       "      <td>F</td>\n",
       "      <td>Kids &amp; Family</td>\n",
       "      <td>76</td>\n",
       "      <td>48.25</td>\n",
       "      <td>18</td>\n",
       "    </tr>\n",
       "    <tr>\n",
       "      <th>19994</th>\n",
       "      <td>10805</td>\n",
       "      <td>50500</td>\n",
       "      <td>Thank you, Drive Thru Please</td>\n",
       "      <td>McDonald's</td>\n",
       "      <td>3.0</td>\n",
       "      <td>3.0</td>\n",
       "      <td>F</td>\n",
       "      <td>Restaurants &amp; Gourmet</td>\n",
       "      <td>41</td>\n",
       "      <td>30.74</td>\n",
       "      <td>18</td>\n",
       "    </tr>\n",
       "    <tr>\n",
       "      <th>19995</th>\n",
       "      <td>10805</td>\n",
       "      <td>50600</td>\n",
       "      <td>The Upper Class Fast Food</td>\n",
       "      <td>Wendy's</td>\n",
       "      <td>2.0</td>\n",
       "      <td>3.0</td>\n",
       "      <td>F</td>\n",
       "      <td>Restaurants &amp; Gourmet</td>\n",
       "      <td>84</td>\n",
       "      <td>69.00</td>\n",
       "      <td>18</td>\n",
       "    </tr>\n",
       "    <tr>\n",
       "      <th>19996</th>\n",
       "      <td>10806</td>\n",
       "      <td>82201</td>\n",
       "      <td>What more can you ask for????</td>\n",
       "      <td>Olive Garden</td>\n",
       "      <td>4.0</td>\n",
       "      <td>0.0</td>\n",
       "      <td>M</td>\n",
       "      <td>Restaurants &amp; Gourmet</td>\n",
       "      <td>49</td>\n",
       "      <td>32.00</td>\n",
       "      <td>28</td>\n",
       "    </tr>\n",
       "    <tr>\n",
       "      <th>19997</th>\n",
       "      <td>10806</td>\n",
       "      <td>82201</td>\n",
       "      <td>Excellent steak for a good price</td>\n",
       "      <td>Outback Steakhouse</td>\n",
       "      <td>4.0</td>\n",
       "      <td>3.0</td>\n",
       "      <td>M</td>\n",
       "      <td>Restaurants &amp; Gourmet</td>\n",
       "      <td>50</td>\n",
       "      <td>25.00</td>\n",
       "      <td>28</td>\n",
       "    </tr>\n",
       "    <tr>\n",
       "      <th>19998</th>\n",
       "      <td>10807</td>\n",
       "      <td>31504</td>\n",
       "      <td>Different story world</td>\n",
       "      <td>J. K. Rowling - Harry Potter and the Sorcerer'...</td>\n",
       "      <td>4.0</td>\n",
       "      <td>0.0</td>\n",
       "      <td>M</td>\n",
       "      <td>Books</td>\n",
       "      <td>36</td>\n",
       "      <td>96.00</td>\n",
       "      <td>27</td>\n",
       "    </tr>\n",
       "    <tr>\n",
       "      <th>19999</th>\n",
       "      <td>10808</td>\n",
       "      <td>10200</td>\n",
       "      <td>Boldly Displaying Sigourneys Cleavage ..</td>\n",
       "      <td>Galaxy Quest</td>\n",
       "      <td>4.0</td>\n",
       "      <td>0.0</td>\n",
       "      <td>M</td>\n",
       "      <td>Movies</td>\n",
       "      <td>29</td>\n",
       "      <td>67.00</td>\n",
       "      <td>11</td>\n",
       "    </tr>\n",
       "  </tbody>\n",
       "</table>\n",
       "</div>"
      ],
      "text/plain": [
       "       userId  timestamp                                    review  \\\n",
       "19990    2445     101400                            Great Service.   \n",
       "19991    2445     101400                             An Okay Movie   \n",
       "19992   10805      11900                                     R.I.P   \n",
       "19993   10805      12000                          Leave them be...   \n",
       "19994   10805      50500              Thank you, Drive Thru Please   \n",
       "19995   10805      50600                 The Upper Class Fast Food   \n",
       "19996   10806      82201             What more can you ask for????   \n",
       "19997   10806      82201          Excellent steak for a good price   \n",
       "19998   10807      31504                     Different story world   \n",
       "19999   10808      10200  Boldly Displaying Sigourneys Cleavage ..   \n",
       "\n",
       "                                                    item  rating  helpfulness  \\\n",
       "19990                                             PayPal     5.0          3.0   \n",
       "19991                                  What Lies Beneath     2.0          0.0   \n",
       "19992                                                MTV     1.0          4.0   \n",
       "19993                                        Teletubbies     5.0          4.0   \n",
       "19994                                         McDonald's     3.0          3.0   \n",
       "19995                                            Wendy's     2.0          3.0   \n",
       "19996                                       Olive Garden     4.0          0.0   \n",
       "19997                                 Outback Steakhouse     4.0          3.0   \n",
       "19998  J. K. Rowling - Harry Potter and the Sorcerer'...     4.0          0.0   \n",
       "19999                                       Galaxy Quest     4.0          0.0   \n",
       "\n",
       "      gender               category  item_id  item_price  user_city  \n",
       "19990      M       Personal Finance       52       38.00          5  \n",
       "19991      M                 Movies       85      145.00          5  \n",
       "19992      F                  Media       39      138.00         18  \n",
       "19993      F          Kids & Family       76       48.25         18  \n",
       "19994      F  Restaurants & Gourmet       41       30.74         18  \n",
       "19995      F  Restaurants & Gourmet       84       69.00         18  \n",
       "19996      M  Restaurants & Gourmet       49       32.00         28  \n",
       "19997      M  Restaurants & Gourmet       50       25.00         28  \n",
       "19998      M                  Books       36       96.00         27  \n",
       "19999      M                 Movies       29       67.00         11  "
      ]
     },
     "execution_count": 244,
     "metadata": {},
     "output_type": "execute_result"
    }
   ],
   "source": [
    "# last 10 rows of the dataset\n",
    "\n",
    "ecomm_data.tail(10)"
   ]
  },
  {
   "cell_type": "markdown",
   "id": "-tb7B7VTqndQ",
   "metadata": {
    "id": "-tb7B7VTqndQ"
   },
   "source": [
    " ## Q1. Remove missing data\n",
    "\n",
    "Please remove the following records in the csv file:\n",
    "\n",
    " * gender/rating/helpfulness is missing\n",
    " * review is 'none'\n",
    "\n",
    "__Display the DataFrame, counting number of Null values in each column, and print the length of the data__ before and after removing the missing data.  "
   ]
  },
  {
   "cell_type": "markdown",
   "id": "20ebad7e-1e4b-46b7-8a20-b72e31e323d9",
   "metadata": {},
   "source": [
    "#### Answer to Q1: Displaying the data frame"
   ]
  },
  {
   "cell_type": "code",
   "execution_count": 245,
   "id": "7f7a134c-366e-4b3d-a7c0-57ba9e906959",
   "metadata": {},
   "outputs": [
    {
     "data": {
      "text/html": [
       "<div>\n",
       "<style scoped>\n",
       "    .dataframe tbody tr th:only-of-type {\n",
       "        vertical-align: middle;\n",
       "    }\n",
       "\n",
       "    .dataframe tbody tr th {\n",
       "        vertical-align: top;\n",
       "    }\n",
       "\n",
       "    .dataframe thead th {\n",
       "        text-align: right;\n",
       "    }\n",
       "</style>\n",
       "<table border=\"1\" class=\"dataframe\">\n",
       "  <thead>\n",
       "    <tr style=\"text-align: right;\">\n",
       "      <th></th>\n",
       "      <th>userId</th>\n",
       "      <th>timestamp</th>\n",
       "      <th>review</th>\n",
       "      <th>item</th>\n",
       "      <th>rating</th>\n",
       "      <th>helpfulness</th>\n",
       "      <th>gender</th>\n",
       "      <th>category</th>\n",
       "      <th>item_id</th>\n",
       "      <th>item_price</th>\n",
       "      <th>user_city</th>\n",
       "    </tr>\n",
       "  </thead>\n",
       "  <tbody>\n",
       "    <tr>\n",
       "      <th>0</th>\n",
       "      <td>4051</td>\n",
       "      <td>12807</td>\n",
       "      <td>Great job for what it is!</td>\n",
       "      <td>eBay</td>\n",
       "      <td>5.0</td>\n",
       "      <td>2.0</td>\n",
       "      <td>F</td>\n",
       "      <td>Online Stores &amp; Services</td>\n",
       "      <td>88</td>\n",
       "      <td>149.00</td>\n",
       "      <td>39</td>\n",
       "    </tr>\n",
       "    <tr>\n",
       "      <th>1</th>\n",
       "      <td>4052</td>\n",
       "      <td>122899</td>\n",
       "      <td>Free Access Worth your Time</td>\n",
       "      <td>NetZero</td>\n",
       "      <td>5.0</td>\n",
       "      <td>0.0</td>\n",
       "      <td>F</td>\n",
       "      <td>Online Stores &amp; Services</td>\n",
       "      <td>46</td>\n",
       "      <td>53.00</td>\n",
       "      <td>39</td>\n",
       "    </tr>\n",
       "    <tr>\n",
       "      <th>2</th>\n",
       "      <td>33</td>\n",
       "      <td>12700</td>\n",
       "      <td>AOL..I love you!!!!!!!!!!!!</td>\n",
       "      <td>AOL (America Online)</td>\n",
       "      <td>5.0</td>\n",
       "      <td>4.0</td>\n",
       "      <td>F</td>\n",
       "      <td>Online Stores &amp; Services</td>\n",
       "      <td>0</td>\n",
       "      <td>145.84</td>\n",
       "      <td>31</td>\n",
       "    </tr>\n",
       "    <tr>\n",
       "      <th>3</th>\n",
       "      <td>33</td>\n",
       "      <td>21000</td>\n",
       "      <td>EBAY!!!  I LOVE YOU!!!! :-)*</td>\n",
       "      <td>eBay</td>\n",
       "      <td>5.0</td>\n",
       "      <td>4.0</td>\n",
       "      <td>F</td>\n",
       "      <td>Online Stores &amp; Services</td>\n",
       "      <td>88</td>\n",
       "      <td>149.00</td>\n",
       "      <td>31</td>\n",
       "    </tr>\n",
       "    <tr>\n",
       "      <th>4</th>\n",
       "      <td>33</td>\n",
       "      <td>22300</td>\n",
       "      <td>Blair Witch...Oh Come On.......</td>\n",
       "      <td>Blair Witch Project</td>\n",
       "      <td>1.0</td>\n",
       "      <td>4.0</td>\n",
       "      <td>F</td>\n",
       "      <td>Movies</td>\n",
       "      <td>12</td>\n",
       "      <td>44.00</td>\n",
       "      <td>31</td>\n",
       "    </tr>\n",
       "    <tr>\n",
       "      <th>...</th>\n",
       "      <td>...</td>\n",
       "      <td>...</td>\n",
       "      <td>...</td>\n",
       "      <td>...</td>\n",
       "      <td>...</td>\n",
       "      <td>...</td>\n",
       "      <td>...</td>\n",
       "      <td>...</td>\n",
       "      <td>...</td>\n",
       "      <td>...</td>\n",
       "      <td>...</td>\n",
       "    </tr>\n",
       "    <tr>\n",
       "      <th>19995</th>\n",
       "      <td>10805</td>\n",
       "      <td>50600</td>\n",
       "      <td>The Upper Class Fast Food</td>\n",
       "      <td>Wendy's</td>\n",
       "      <td>2.0</td>\n",
       "      <td>3.0</td>\n",
       "      <td>F</td>\n",
       "      <td>Restaurants &amp; Gourmet</td>\n",
       "      <td>84</td>\n",
       "      <td>69.00</td>\n",
       "      <td>18</td>\n",
       "    </tr>\n",
       "    <tr>\n",
       "      <th>19996</th>\n",
       "      <td>10806</td>\n",
       "      <td>82201</td>\n",
       "      <td>What more can you ask for????</td>\n",
       "      <td>Olive Garden</td>\n",
       "      <td>4.0</td>\n",
       "      <td>0.0</td>\n",
       "      <td>M</td>\n",
       "      <td>Restaurants &amp; Gourmet</td>\n",
       "      <td>49</td>\n",
       "      <td>32.00</td>\n",
       "      <td>28</td>\n",
       "    </tr>\n",
       "    <tr>\n",
       "      <th>19997</th>\n",
       "      <td>10806</td>\n",
       "      <td>82201</td>\n",
       "      <td>Excellent steak for a good price</td>\n",
       "      <td>Outback Steakhouse</td>\n",
       "      <td>4.0</td>\n",
       "      <td>3.0</td>\n",
       "      <td>M</td>\n",
       "      <td>Restaurants &amp; Gourmet</td>\n",
       "      <td>50</td>\n",
       "      <td>25.00</td>\n",
       "      <td>28</td>\n",
       "    </tr>\n",
       "    <tr>\n",
       "      <th>19998</th>\n",
       "      <td>10807</td>\n",
       "      <td>31504</td>\n",
       "      <td>Different story world</td>\n",
       "      <td>J. K. Rowling - Harry Potter and the Sorcerer'...</td>\n",
       "      <td>4.0</td>\n",
       "      <td>0.0</td>\n",
       "      <td>M</td>\n",
       "      <td>Books</td>\n",
       "      <td>36</td>\n",
       "      <td>96.00</td>\n",
       "      <td>27</td>\n",
       "    </tr>\n",
       "    <tr>\n",
       "      <th>19999</th>\n",
       "      <td>10808</td>\n",
       "      <td>10200</td>\n",
       "      <td>Boldly Displaying Sigourneys Cleavage ..</td>\n",
       "      <td>Galaxy Quest</td>\n",
       "      <td>4.0</td>\n",
       "      <td>0.0</td>\n",
       "      <td>M</td>\n",
       "      <td>Movies</td>\n",
       "      <td>29</td>\n",
       "      <td>67.00</td>\n",
       "      <td>11</td>\n",
       "    </tr>\n",
       "  </tbody>\n",
       "</table>\n",
       "<p>20000 rows × 11 columns</p>\n",
       "</div>"
      ],
      "text/plain": [
       "       userId  timestamp                                    review  \\\n",
       "0        4051      12807                 Great job for what it is!   \n",
       "1        4052     122899               Free Access Worth your Time   \n",
       "2          33      12700             AOL..I love you!!!!!!!!!!!!     \n",
       "3          33      21000              EBAY!!!  I LOVE YOU!!!! :-)*   \n",
       "4          33      22300           Blair Witch...Oh Come On.......   \n",
       "...       ...        ...                                       ...   \n",
       "19995   10805      50600                 The Upper Class Fast Food   \n",
       "19996   10806      82201             What more can you ask for????   \n",
       "19997   10806      82201          Excellent steak for a good price   \n",
       "19998   10807      31504                     Different story world   \n",
       "19999   10808      10200  Boldly Displaying Sigourneys Cleavage ..   \n",
       "\n",
       "                                                    item  rating  helpfulness  \\\n",
       "0                                                   eBay     5.0          2.0   \n",
       "1                                                NetZero     5.0          0.0   \n",
       "2                                   AOL (America Online)     5.0          4.0   \n",
       "3                                                   eBay     5.0          4.0   \n",
       "4                                    Blair Witch Project     1.0          4.0   \n",
       "...                                                  ...     ...          ...   \n",
       "19995                                            Wendy's     2.0          3.0   \n",
       "19996                                       Olive Garden     4.0          0.0   \n",
       "19997                                 Outback Steakhouse     4.0          3.0   \n",
       "19998  J. K. Rowling - Harry Potter and the Sorcerer'...     4.0          0.0   \n",
       "19999                                       Galaxy Quest     4.0          0.0   \n",
       "\n",
       "      gender                  category  item_id  item_price  user_city  \n",
       "0          F  Online Stores & Services       88      149.00         39  \n",
       "1          F  Online Stores & Services       46       53.00         39  \n",
       "2          F  Online Stores & Services        0      145.84         31  \n",
       "3          F  Online Stores & Services       88      149.00         31  \n",
       "4          F                    Movies       12       44.00         31  \n",
       "...      ...                       ...      ...         ...        ...  \n",
       "19995      F     Restaurants & Gourmet       84       69.00         18  \n",
       "19996      M     Restaurants & Gourmet       49       32.00         28  \n",
       "19997      M     Restaurants & Gourmet       50       25.00         28  \n",
       "19998      M                     Books       36       96.00         27  \n",
       "19999      M                    Movies       29       67.00         11  \n",
       "\n",
       "[20000 rows x 11 columns]"
      ]
     },
     "metadata": {},
     "output_type": "display_data"
    }
   ],
   "source": [
    "# displaying the DataFrame\n",
    "\n",
    "display(ecomm_data)"
   ]
  },
  {
   "cell_type": "markdown",
   "id": "3195c8ee-d0de-4a2c-8b53-f828dcaf2a1d",
   "metadata": {},
   "source": [
    "#### Answer to Q1: Counting number of missing values in each column"
   ]
  },
  {
   "cell_type": "code",
   "execution_count": 246,
   "id": "1f8d43b4-3526-4ea4-87b7-5731081f4d13",
   "metadata": {},
   "outputs": [
    {
     "name": "stdout",
     "output_type": "stream",
     "text": [
      "userId          0\n",
      "timestamp       0\n",
      "review          0\n",
      "item            0\n",
      "rating         17\n",
      "helpfulness    22\n",
      "gender         27\n",
      "category        0\n",
      "item_id         0\n",
      "item_price      0\n",
      "user_city       0\n",
      "dtype: int64\n"
     ]
    }
   ],
   "source": [
    "# number of missing values in the data frame\n",
    "\n",
    "missing_values_ecomm_data = ecomm_data.isna().sum()\n",
    "\n",
    "print(missing_values_ecomm_data)"
   ]
  },
  {
   "cell_type": "markdown",
   "id": "f7ccd31c-9532-462f-a7d8-6ba9e98ab37d",
   "metadata": {},
   "source": [
    "#### Answer to Q1: Printing the length of the data"
   ]
  },
  {
   "cell_type": "code",
   "execution_count": 247,
   "id": "7174fd7a-8a74-4369-976d-d93bba643f86",
   "metadata": {},
   "outputs": [
    {
     "name": "stdout",
     "output_type": "stream",
     "text": [
      "The number of records:  20000\n"
     ]
    }
   ],
   "source": [
    "# number of records before removing missing values\n",
    "\n",
    "len_original_ecomm_data = len(ecomm_data)\n",
    "\n",
    "print(\"The number of records: \", len_original_ecomm_data)"
   ]
  },
  {
   "cell_type": "markdown",
   "id": "53945668-6a2b-476f-a327-0cb5cb6ce521",
   "metadata": {},
   "source": [
    "#### Answer to Q1: Removing missing values from the data frame"
   ]
  },
  {
   "cell_type": "code",
   "execution_count": 248,
   "id": "c1970d86-34bd-475f-b0b5-7eafd15d36c9",
   "metadata": {},
   "outputs": [],
   "source": [
    "# removing missing values from the original data frame\n",
    "\n",
    "clean_missing_ecomm_data = ecomm_data.dropna()"
   ]
  },
  {
   "cell_type": "code",
   "execution_count": 249,
   "id": "30fef3ae-7e7e-4e82-92c8-208f5e7412e2",
   "metadata": {},
   "outputs": [
    {
     "name": "stdout",
     "output_type": "stream",
     "text": [
      "The number of records after removing missing values:  19934\n"
     ]
    }
   ],
   "source": [
    "# number of records after removing missing values\n",
    "\n",
    "len_clean_missing_ecomm_data = len(clean_missing_ecomm_data)\n",
    "\n",
    "print(\"The number of records after removing missing values: \", len_clean_missing_ecomm_data)"
   ]
  },
  {
   "cell_type": "markdown",
   "id": "4206bb37-9871-424f-aa7c-7a45c935c735",
   "metadata": {},
   "source": [
    "#### Answer to Q1: Removing review = \"none\" values from the data frame"
   ]
  },
  {
   "cell_type": "code",
   "execution_count": 250,
   "id": "45782489-ba3a-4fa3-8f2b-13b2a76f0535",
   "metadata": {},
   "outputs": [
    {
     "name": "stdout",
     "output_type": "stream",
     "text": [
      "The number of records before removing none values:  19934\n"
     ]
    }
   ],
   "source": [
    "# number of records before removing \"none\" values\n",
    "\n",
    "print(\"The number of records before removing none values: \", len_clean_missing_ecomm_data)"
   ]
  },
  {
   "cell_type": "code",
   "execution_count": 251,
   "id": "1ecn6H9VqndQ",
   "metadata": {
    "id": "1ecn6H9VqndQ"
   },
   "outputs": [],
   "source": [
    "# removing review: \"none\" values\n",
    "\n",
    "cleaned_ecomm_data = clean_missing_ecomm_data.drop(clean_missing_ecomm_data[clean_missing_ecomm_data[\"review\"] == \"none\"].index)"
   ]
  },
  {
   "cell_type": "code",
   "execution_count": 252,
   "id": "bbb0a0da-a912-4830-9270-9fc4a83a0144",
   "metadata": {},
   "outputs": [
    {
     "name": "stdout",
     "output_type": "stream",
     "text": [
      "The number of records after removing 'none' values:  19916\n"
     ]
    }
   ],
   "source": [
    "# number of records after removing \"none\" values\n",
    "\n",
    "len_cleaned_ecomm_data = len(cleaned_ecomm_data)\n",
    "\n",
    "print(\"The number of records after removing 'none' values: \", len_cleaned_ecomm_data)"
   ]
  },
  {
   "cell_type": "markdown",
   "id": "93e158bb-faab-47de-833f-667e5aae766c",
   "metadata": {},
   "source": [
    "#### Summarizing the cleaned data"
   ]
  },
  {
   "cell_type": "code",
   "execution_count": 253,
   "id": "7c8046a4-23d4-4609-9328-bed3e0b33b3e",
   "metadata": {},
   "outputs": [
    {
     "data": {
      "text/html": [
       "<div>\n",
       "<style scoped>\n",
       "    .dataframe tbody tr th:only-of-type {\n",
       "        vertical-align: middle;\n",
       "    }\n",
       "\n",
       "    .dataframe tbody tr th {\n",
       "        vertical-align: top;\n",
       "    }\n",
       "\n",
       "    .dataframe thead th {\n",
       "        text-align: right;\n",
       "    }\n",
       "</style>\n",
       "<table border=\"1\" class=\"dataframe\">\n",
       "  <thead>\n",
       "    <tr style=\"text-align: right;\">\n",
       "      <th></th>\n",
       "      <th>userId</th>\n",
       "      <th>timestamp</th>\n",
       "      <th>rating</th>\n",
       "      <th>helpfulness</th>\n",
       "      <th>item_id</th>\n",
       "      <th>item_price</th>\n",
       "      <th>user_city</th>\n",
       "    </tr>\n",
       "  </thead>\n",
       "  <tbody>\n",
       "    <tr>\n",
       "      <th>count</th>\n",
       "      <td>19916.000000</td>\n",
       "      <td>19916.000000</td>\n",
       "      <td>19916.000000</td>\n",
       "      <td>19916.000000</td>\n",
       "      <td>19916.000000</td>\n",
       "      <td>19916.000000</td>\n",
       "      <td>19916.000000</td>\n",
       "    </tr>\n",
       "    <tr>\n",
       "      <th>mean</th>\n",
       "      <td>5498.589827</td>\n",
       "      <td>58993.228008</td>\n",
       "      <td>3.701798</td>\n",
       "      <td>2.595953</td>\n",
       "      <td>41.779976</td>\n",
       "      <td>82.186515</td>\n",
       "      <td>19.403043</td>\n",
       "    </tr>\n",
       "    <tr>\n",
       "      <th>std</th>\n",
       "      <td>3344.391672</td>\n",
       "      <td>37957.960964</td>\n",
       "      <td>1.404451</td>\n",
       "      <td>1.750888</td>\n",
       "      <td>27.278416</td>\n",
       "      <td>42.242266</td>\n",
       "      <td>11.626979</td>\n",
       "    </tr>\n",
       "    <tr>\n",
       "      <th>min</th>\n",
       "      <td>0.000000</td>\n",
       "      <td>10100.000000</td>\n",
       "      <td>1.000000</td>\n",
       "      <td>0.000000</td>\n",
       "      <td>0.000000</td>\n",
       "      <td>12.000000</td>\n",
       "      <td>0.000000</td>\n",
       "    </tr>\n",
       "    <tr>\n",
       "      <th>25%</th>\n",
       "      <td>1991.000000</td>\n",
       "      <td>21500.000000</td>\n",
       "      <td>3.000000</td>\n",
       "      <td>0.000000</td>\n",
       "      <td>17.000000</td>\n",
       "      <td>48.250000</td>\n",
       "      <td>9.000000</td>\n",
       "    </tr>\n",
       "    <tr>\n",
       "      <th>50%</th>\n",
       "      <td>5892.000000</td>\n",
       "      <td>52701.000000</td>\n",
       "      <td>4.000000</td>\n",
       "      <td>4.000000</td>\n",
       "      <td>41.000000</td>\n",
       "      <td>72.000000</td>\n",
       "      <td>19.000000</td>\n",
       "    </tr>\n",
       "    <tr>\n",
       "      <th>75%</th>\n",
       "      <td>8408.250000</td>\n",
       "      <td>91599.000000</td>\n",
       "      <td>5.000000</td>\n",
       "      <td>4.000000</td>\n",
       "      <td>65.000000</td>\n",
       "      <td>126.500000</td>\n",
       "      <td>30.000000</td>\n",
       "    </tr>\n",
       "    <tr>\n",
       "      <th>max</th>\n",
       "      <td>10808.000000</td>\n",
       "      <td>123199.000000</td>\n",
       "      <td>5.000000</td>\n",
       "      <td>4.000000</td>\n",
       "      <td>88.000000</td>\n",
       "      <td>149.000000</td>\n",
       "      <td>39.000000</td>\n",
       "    </tr>\n",
       "  </tbody>\n",
       "</table>\n",
       "</div>"
      ],
      "text/plain": [
       "             userId      timestamp        rating   helpfulness       item_id  \\\n",
       "count  19916.000000   19916.000000  19916.000000  19916.000000  19916.000000   \n",
       "mean    5498.589827   58993.228008      3.701798      2.595953     41.779976   \n",
       "std     3344.391672   37957.960964      1.404451      1.750888     27.278416   \n",
       "min        0.000000   10100.000000      1.000000      0.000000      0.000000   \n",
       "25%     1991.000000   21500.000000      3.000000      0.000000     17.000000   \n",
       "50%     5892.000000   52701.000000      4.000000      4.000000     41.000000   \n",
       "75%     8408.250000   91599.000000      5.000000      4.000000     65.000000   \n",
       "max    10808.000000  123199.000000      5.000000      4.000000     88.000000   \n",
       "\n",
       "         item_price     user_city  \n",
       "count  19916.000000  19916.000000  \n",
       "mean      82.186515     19.403043  \n",
       "std       42.242266     11.626979  \n",
       "min       12.000000      0.000000  \n",
       "25%       48.250000      9.000000  \n",
       "50%       72.000000     19.000000  \n",
       "75%      126.500000     30.000000  \n",
       "max      149.000000     39.000000  "
      ]
     },
     "execution_count": 253,
     "metadata": {},
     "output_type": "execute_result"
    }
   ],
   "source": [
    "# summary of cleaned dataset\n",
    "\n",
    "cleaned_ecomm_data.describe()"
   ]
  },
  {
   "cell_type": "markdown",
   "id": "EJG9_LEmqndR",
   "metadata": {
    "id": "EJG9_LEmqndR"
   },
   "source": [
    "## Q2. Descriptive statistics\n",
    "\n",
    "With the cleaned data in Q1, please provide the data summarization as below:\n",
    "\n",
    "* Q2.1 total number of unique users, unique reviews, unique items, and unique categories\n",
    "* Q2.2 descriptive statistics, e.g., the total number, mean, std, min and max regarding all rating records\n",
    "* Q2.3 descriptive statistics, e.g., mean, std, max, and min of the number of items rated by different genders\n",
    "* Q2.4 descriptive statistics, e.g., mean, std, max, min of the number of ratings that received by each items\n"
   ]
  },
  {
   "cell_type": "markdown",
   "id": "ae5b4bb1-eaff-4169-978f-e66249418a8f",
   "metadata": {},
   "source": [
    "#### Answer to Q2.1: Finding the total number of unique users, unique review, unique items, and unique categories"
   ]
  },
  {
   "cell_type": "code",
   "execution_count": 254,
   "id": "b1bab81a-ce76-4f93-92ec-622f67b8db7f",
   "metadata": {},
   "outputs": [
    {
     "name": "stdout",
     "output_type": "stream",
     "text": [
      "userId          8562\n",
      "timestamp       2283\n",
      "review         19459\n",
      "item              89\n",
      "rating             5\n",
      "helpfulness        5\n",
      "gender             2\n",
      "category           9\n",
      "item_id           89\n",
      "item_price        83\n",
      "user_city         40\n",
      "dtype: int64\n"
     ]
    }
   ],
   "source": [
    "# counting the number of unique values in each column in the cleaned data frame\n",
    "\n",
    "unique_ecomm_data = cleaned_ecomm_data.nunique()\n",
    "\n",
    "# displaying the column names and its corresponding number of unique values in each column\n",
    "\n",
    "print(unique_ecomm_data)"
   ]
  },
  {
   "cell_type": "markdown",
   "id": "4c9ac1c3-1bf0-4bae-b79a-52d8d547f8c3",
   "metadata": {},
   "source": [
    "#### List and count of unique users"
   ]
  },
  {
   "cell_type": "code",
   "execution_count": 255,
   "id": "c971a5d9-0846-45ad-9ca7-3e737da1057f",
   "metadata": {},
   "outputs": [
    {
     "data": {
      "text/plain": [
       "array([ 4051,  4052,    33, ..., 10806, 10807, 10808], dtype=int64)"
      ]
     },
     "metadata": {},
     "output_type": "display_data"
    }
   ],
   "source": [
    "# finding the unique users from the cleaned data frame\n",
    "\n",
    "unique_users_ecomm_data = cleaned_ecomm_data[\"userId\"].unique()\n",
    "\n",
    "display(unique_users_ecomm_data)\n"
   ]
  },
  {
   "cell_type": "code",
   "execution_count": 256,
   "id": "cc781745-d719-44d9-b166-f1c12e5dd776",
   "metadata": {},
   "outputs": [
    {
     "name": "stdout",
     "output_type": "stream",
     "text": [
      "The number of unqiue users:  8562\n"
     ]
    }
   ],
   "source": [
    "# counting the number of unique users in the cleaned data frame\n",
    "\n",
    "print(\"The number of unqiue users: \", len(unique_users_ecomm_data))"
   ]
  },
  {
   "cell_type": "markdown",
   "id": "c6bb83f7-f336-4720-b78f-75f77e4cd156",
   "metadata": {},
   "source": [
    "#### List and count of unique reviews"
   ]
  },
  {
   "cell_type": "code",
   "execution_count": 257,
   "id": "3539ecd5-0c92-4d6b-bc77-5657d2f1bee7",
   "metadata": {},
   "outputs": [
    {
     "data": {
      "text/plain": [
       "array(['Great job for what it is!', 'Free Access Worth your Time',\n",
       "       'AOL..I love you!!!!!!!!!!!!  ', ...,\n",
       "       'Excellent steak for a good price', 'Different story world',\n",
       "       'Boldly Displaying Sigourneys Cleavage ..'], dtype=object)"
      ]
     },
     "metadata": {},
     "output_type": "display_data"
    }
   ],
   "source": [
    "# finding the unique reviews from the cleaned data frame\n",
    "\n",
    "unique_reviews_ecomm_data = cleaned_ecomm_data[\"review\"].unique()\n",
    "\n",
    "display(unique_reviews_ecomm_data)"
   ]
  },
  {
   "cell_type": "code",
   "execution_count": 258,
   "id": "cb53dc80-8d61-4bde-9619-82434fa3500e",
   "metadata": {},
   "outputs": [
    {
     "name": "stdout",
     "output_type": "stream",
     "text": [
      "The number of unqiue reviews:  19459\n"
     ]
    }
   ],
   "source": [
    "# counting the number of unique reviews in the cleaned data frame\n",
    "\n",
    "print(\"The number of unqiue reviews: \", len(unique_reviews_ecomm_data))"
   ]
  },
  {
   "cell_type": "markdown",
   "id": "11886f52-4030-410c-9aae-9765003a2a6d",
   "metadata": {},
   "source": [
    "#### List and count of unique items"
   ]
  },
  {
   "cell_type": "code",
   "execution_count": 259,
   "id": "ef61f610-9aeb-410a-89de-8d23ad7eaa61",
   "metadata": {},
   "outputs": [
    {
     "data": {
      "text/plain": [
       "array(['eBay', 'NetZero', 'AOL (America Online)', 'Blair Witch Project',\n",
       "       'Matrix', 'Outback Steakhouse', 'PayPal', \"Wendy's\", 'Amazon.com',\n",
       "       'Burger King', 'All Advantage', \"Blue's Clues\", 'MyPoints.com',\n",
       "       'Teletubbies', 'United Airlines', 'Erin Brockovich',\n",
       "       'Priceline Flight Reservations',\n",
       "       'Austin Powers: The Spy Who Shagged Me', 'Sixth Sense',\n",
       "       'Quicken Loans', 'Green Mile', 'Blue Mountain Arts eCards',\n",
       "       'Luvs Ultra Leakguards Stretch', 'American Pie',\n",
       "       'Southwest Airlines', 'Gladiator',\n",
       "       'South Park: Bigger, Longer & Uncut', 'Patriot', 'NBC',\n",
       "       'Unbreakable', 'Subway', 'Perfect Storm', 'Delta Air Lines',\n",
       "       'NetFlix', 'Bank of America', 'Huggies Ultra Trim Diapers',\n",
       "       'Alta Vista (by 1stUp)', 'Northwest Airlines', 'American Airlines',\n",
       "       'The Legend Of Zelda Ocarina Of Time for Nintendo 64',\n",
       "       'Deep Blue Sea', 'Spedia', 'Sega Dreamcast Grey Console',\n",
       "       'Olive Garden', \"Applebee's\", 'Talented Mr. Ripley', 'X-Men',\n",
       "       \"McDonald's\", 'Scary Movie', 'Taco Bell', 'FOX', 'Dogma',\n",
       "       'The Original Furby', 'Final Fantasy VIII for PlayStation 1',\n",
       "       'American Beauty', 'MTV', 'Any Given Sunday', 'Cast Away',\n",
       "       'BlueLight.com', 'Sony PlayStation 2 Slimline Console',\n",
       "       'Toy Story 2', 'Mission: Impossible II', 'New York City',\n",
       "       'Road Runner (includes MediaOne)', 'Google', 'Simpsons, The',\n",
       "       'Earthlink', 'Playtex Diaper Genie System', 'Sleepy Hollow',\n",
       "       'Fight Club', 'Being John Malkovich', 'Galaxy Quest', 'Las Vegas',\n",
       "       'Scream 3', 'The Sims 2: Open for Business for Windows',\n",
       "       'Treeloot.com', 'Golden Eye 007 for Nintendo 64',\n",
       "       'What Lies Beneath', 'Diablo 2 - Bestseller Series for Windows',\n",
       "       'Star Wars Episode I: The Phantom Menace',\n",
       "       'Crouching Tiger, Hidden Dragon', 'X.com',\n",
       "       'How the Grinch Stole Christmas', 'Pearl Harbor', 'Shrek',\n",
       "       'FreeRide.com',\n",
       "       \"J. K. Rowling - Harry Potter and the Sorcerer's Stone\",\n",
       "       'StartSampling.Com', 'Roller Coaster Tycoon For Windows'],\n",
       "      dtype=object)"
      ]
     },
     "metadata": {},
     "output_type": "display_data"
    }
   ],
   "source": [
    "# finding the unique items from the cleaned data frame\n",
    "\n",
    "unique_items_ecomm_data = cleaned_ecomm_data[\"item\"].unique()\n",
    "\n",
    "display(unique_items_ecomm_data)"
   ]
  },
  {
   "cell_type": "code",
   "execution_count": 260,
   "id": "8ea9225a-839f-4383-ad08-6e99d74c5d28",
   "metadata": {},
   "outputs": [
    {
     "name": "stdout",
     "output_type": "stream",
     "text": [
      "The number of unqiue items:  89\n"
     ]
    }
   ],
   "source": [
    "# counting the number of unique items in the cleaned data frame\n",
    "\n",
    "print(\"The number of unqiue items: \", len(unique_items_ecomm_data))"
   ]
  },
  {
   "cell_type": "markdown",
   "id": "c61bd660-7ff3-4ce1-8bae-9b454e43917b",
   "metadata": {},
   "source": [
    "#### List and count of unique categories"
   ]
  },
  {
   "cell_type": "code",
   "execution_count": 261,
   "id": "e3425ea0-b17a-4ffb-a9e9-88a5bae0f698",
   "metadata": {},
   "outputs": [
    {
     "data": {
      "text/plain": [
       "array(['Online Stores & Services', 'Movies', 'Restaurants & Gourmet',\n",
       "       'Personal Finance', 'Kids & Family', 'Hotels & Travel', 'Media',\n",
       "       'Games', 'Books'], dtype=object)"
      ]
     },
     "metadata": {},
     "output_type": "display_data"
    }
   ],
   "source": [
    "# finding the unique categories from the cleaned data frame\n",
    "\n",
    "unique_categories_ecomm_data = cleaned_ecomm_data[\"category\"].unique()\n",
    "\n",
    "display(unique_categories_ecomm_data)"
   ]
  },
  {
   "cell_type": "code",
   "execution_count": 262,
   "id": "4a45a586-b376-4aac-83ec-9658f765f7eb",
   "metadata": {},
   "outputs": [
    {
     "name": "stdout",
     "output_type": "stream",
     "text": [
      "The number of unqiue categories:  9\n"
     ]
    }
   ],
   "source": [
    "# counting the number of unique categories in the cleaned data frame\n",
    "\n",
    "print(\"The number of unqiue categories: \", len(unique_categories_ecomm_data))"
   ]
  },
  {
   "cell_type": "markdown",
   "id": "1d56c350-3622-4c0e-85cb-fcae5284d294",
   "metadata": {},
   "source": [
    "#### Answer to Q2.2: Finding descriptive statistics of all rating records"
   ]
  },
  {
   "cell_type": "code",
   "execution_count": 263,
   "id": "dff3bd7e-8e80-4d2e-bcbe-ce23ffbfe570",
   "metadata": {},
   "outputs": [],
   "source": [
    "# finding the descriptive statistics of all rating records\n",
    "\n",
    "rating = cleaned_ecomm_data[\"rating\"]\n",
    "\n",
    "rating_count = rating.count()\n",
    "rating_mean = rating.mean()\n",
    "rating_stdev = rating.std()\n",
    "rating_max = rating.max()\n",
    "rating_min = rating.min()"
   ]
  },
  {
   "cell_type": "code",
   "execution_count": 264,
   "id": "a8c4b0d2-cdc9-49bd-95c8-bd732a829dd7",
   "metadata": {},
   "outputs": [
    {
     "name": "stdout",
     "output_type": "stream",
     "text": [
      "Descriptive statistics of all rating records:\n",
      "Total number of ratings:  19916 ,\n",
      "Mean of ratings:  3.7017975497087767 ,\n",
      "Standard deviation of ratings:  1.4044507218710944 ,\n",
      "Maximum rating:  5.0 ,\n",
      "Minimum rating:  1.0\n"
     ]
    }
   ],
   "source": [
    "# displaying the descriptive statistics of all rating records\n",
    "\n",
    "print(\"Descriptive statistics of all rating records:\")\n",
    "print(\"Total number of ratings: \", rating_count, \",\")\n",
    "print(\"Mean of ratings: \", rating_mean, \",\")\n",
    "print(\"Standard deviation of ratings: \", rating_stdev, \",\")\n",
    "print(\"Maximum rating: \", rating_max, \",\")\n",
    "print(\"Minimum rating: \", rating_min)"
   ]
  },
  {
   "cell_type": "code",
   "execution_count": 265,
   "id": "e0f65bb9-6716-47f5-8b2e-111a8fc7079a",
   "metadata": {},
   "outputs": [
    {
     "data": {
      "text/plain": [
       "count    19916.000000\n",
       "mean         3.701798\n",
       "std          1.404451\n",
       "min          1.000000\n",
       "25%          3.000000\n",
       "50%          4.000000\n",
       "75%          5.000000\n",
       "max          5.000000\n",
       "Name: rating, dtype: float64"
      ]
     },
     "execution_count": 265,
     "metadata": {},
     "output_type": "execute_result"
    }
   ],
   "source": [
    "# displaying the descriptive statistics of all rating records using describe function\n",
    "\n",
    "cleaned_ecomm_data[\"rating\"].describe()"
   ]
  },
  {
   "cell_type": "markdown",
   "id": "c969e948-d543-4a2c-a2e8-3c6a78dfdb7f",
   "metadata": {},
   "source": [
    "#### Answer to Q2.3: Finding descriptive statistics of the number of items rated by different genders"
   ]
  },
  {
   "cell_type": "code",
   "execution_count": 266,
   "id": "7291f6a5-2e00-4b70-a856-e726e7db209d",
   "metadata": {},
   "outputs": [
    {
     "data": {
      "text/html": [
       "<div>\n",
       "<style scoped>\n",
       "    .dataframe tbody tr th:only-of-type {\n",
       "        vertical-align: middle;\n",
       "    }\n",
       "\n",
       "    .dataframe tbody tr th {\n",
       "        vertical-align: top;\n",
       "    }\n",
       "\n",
       "    .dataframe thead th {\n",
       "        text-align: right;\n",
       "    }\n",
       "</style>\n",
       "<table border=\"1\" class=\"dataframe\">\n",
       "  <thead>\n",
       "    <tr style=\"text-align: right;\">\n",
       "      <th></th>\n",
       "      <th>count</th>\n",
       "      <th>mean</th>\n",
       "      <th>std</th>\n",
       "      <th>min</th>\n",
       "      <th>25%</th>\n",
       "      <th>50%</th>\n",
       "      <th>75%</th>\n",
       "      <th>max</th>\n",
       "    </tr>\n",
       "    <tr>\n",
       "      <th>gender</th>\n",
       "      <th></th>\n",
       "      <th></th>\n",
       "      <th></th>\n",
       "      <th></th>\n",
       "      <th></th>\n",
       "      <th></th>\n",
       "      <th></th>\n",
       "      <th></th>\n",
       "    </tr>\n",
       "  </thead>\n",
       "  <tbody>\n",
       "    <tr>\n",
       "      <th>F</th>\n",
       "      <td>9793.0</td>\n",
       "      <td>3.717451</td>\n",
       "      <td>1.395355</td>\n",
       "      <td>1.0</td>\n",
       "      <td>3.0</td>\n",
       "      <td>4.0</td>\n",
       "      <td>5.0</td>\n",
       "      <td>5.0</td>\n",
       "    </tr>\n",
       "    <tr>\n",
       "      <th>M</th>\n",
       "      <td>10123.0</td>\n",
       "      <td>3.686654</td>\n",
       "      <td>1.413098</td>\n",
       "      <td>1.0</td>\n",
       "      <td>3.0</td>\n",
       "      <td>4.0</td>\n",
       "      <td>5.0</td>\n",
       "      <td>5.0</td>\n",
       "    </tr>\n",
       "  </tbody>\n",
       "</table>\n",
       "</div>"
      ],
      "text/plain": [
       "          count      mean       std  min  25%  50%  75%  max\n",
       "gender                                                      \n",
       "F        9793.0  3.717451  1.395355  1.0  3.0  4.0  5.0  5.0\n",
       "M       10123.0  3.686654  1.413098  1.0  3.0  4.0  5.0  5.0"
      ]
     },
     "execution_count": 266,
     "metadata": {},
     "output_type": "execute_result"
    }
   ],
   "source": [
    "# descriptive statistics of the number of items rated by male \"M\" and female \"F\"\n",
    "\n",
    "cleaned_ecomm_data.groupby('gender')['rating'].describe()"
   ]
  },
  {
   "cell_type": "code",
   "execution_count": 267,
   "id": "ccb8c3d0-ed30-47e2-ab5a-b2e654e3ea7b",
   "metadata": {},
   "outputs": [
    {
     "data": {
      "text/plain": [
       "count        2.000000\n",
       "mean      9958.000000\n",
       "std        233.345238\n",
       "min       9793.000000\n",
       "25%       9875.500000\n",
       "50%       9958.000000\n",
       "75%      10040.500000\n",
       "max      10123.000000\n",
       "Name: rating, dtype: float64"
      ]
     },
     "execution_count": 267,
     "metadata": {},
     "output_type": "execute_result"
    }
   ],
   "source": [
    "# descriptive statistics of the number of items rated by male \"M\" and female \"F\"\n",
    "\n",
    "cleaned_ecomm_data.groupby('gender')['rating'].count().describe()"
   ]
  },
  {
   "cell_type": "markdown",
   "id": "ff9a8380-ea2b-4a3c-aeb8-e5235d17e1d8",
   "metadata": {},
   "source": [
    "#### Answer to Q2.4: Finding descriptive statistics of the number of ratings that received by each items"
   ]
  },
  {
   "cell_type": "code",
   "execution_count": 268,
   "id": "6b4fd77d-ea89-45ab-b312-5d2d4c8c21ee",
   "metadata": {},
   "outputs": [
    {
     "data": {
      "text/html": [
       "<div>\n",
       "<style scoped>\n",
       "    .dataframe tbody tr th:only-of-type {\n",
       "        vertical-align: middle;\n",
       "    }\n",
       "\n",
       "    .dataframe tbody tr th {\n",
       "        vertical-align: top;\n",
       "    }\n",
       "\n",
       "    .dataframe thead th {\n",
       "        text-align: right;\n",
       "    }\n",
       "</style>\n",
       "<table border=\"1\" class=\"dataframe\">\n",
       "  <thead>\n",
       "    <tr style=\"text-align: right;\">\n",
       "      <th></th>\n",
       "      <th>count</th>\n",
       "      <th>mean</th>\n",
       "      <th>std</th>\n",
       "      <th>min</th>\n",
       "      <th>25%</th>\n",
       "      <th>50%</th>\n",
       "      <th>75%</th>\n",
       "      <th>max</th>\n",
       "    </tr>\n",
       "    <tr>\n",
       "      <th>item</th>\n",
       "      <th></th>\n",
       "      <th></th>\n",
       "      <th></th>\n",
       "      <th></th>\n",
       "      <th></th>\n",
       "      <th></th>\n",
       "      <th></th>\n",
       "      <th></th>\n",
       "    </tr>\n",
       "  </thead>\n",
       "  <tbody>\n",
       "    <tr>\n",
       "      <th>AOL (America Online)</th>\n",
       "      <td>939.0</td>\n",
       "      <td>2.500532</td>\n",
       "      <td>1.368528</td>\n",
       "      <td>1.0</td>\n",
       "      <td>1.00</td>\n",
       "      <td>2.0</td>\n",
       "      <td>4.0</td>\n",
       "      <td>5.0</td>\n",
       "    </tr>\n",
       "    <tr>\n",
       "      <th>All Advantage</th>\n",
       "      <td>657.0</td>\n",
       "      <td>3.412481</td>\n",
       "      <td>1.541706</td>\n",
       "      <td>1.0</td>\n",
       "      <td>2.00</td>\n",
       "      <td>4.0</td>\n",
       "      <td>5.0</td>\n",
       "      <td>5.0</td>\n",
       "    </tr>\n",
       "    <tr>\n",
       "      <th>Alta Vista (by 1stUp)</th>\n",
       "      <td>157.0</td>\n",
       "      <td>3.541401</td>\n",
       "      <td>1.263341</td>\n",
       "      <td>1.0</td>\n",
       "      <td>3.00</td>\n",
       "      <td>4.0</td>\n",
       "      <td>4.0</td>\n",
       "      <td>5.0</td>\n",
       "    </tr>\n",
       "    <tr>\n",
       "      <th>Amazon.com</th>\n",
       "      <td>240.0</td>\n",
       "      <td>3.683333</td>\n",
       "      <td>1.571095</td>\n",
       "      <td>1.0</td>\n",
       "      <td>2.00</td>\n",
       "      <td>4.0</td>\n",
       "      <td>5.0</td>\n",
       "      <td>5.0</td>\n",
       "    </tr>\n",
       "    <tr>\n",
       "      <th>American Airlines</th>\n",
       "      <td>185.0</td>\n",
       "      <td>3.054054</td>\n",
       "      <td>1.417015</td>\n",
       "      <td>1.0</td>\n",
       "      <td>2.00</td>\n",
       "      <td>3.0</td>\n",
       "      <td>4.0</td>\n",
       "      <td>5.0</td>\n",
       "    </tr>\n",
       "    <tr>\n",
       "      <th>...</th>\n",
       "      <td>...</td>\n",
       "      <td>...</td>\n",
       "      <td>...</td>\n",
       "      <td>...</td>\n",
       "      <td>...</td>\n",
       "      <td>...</td>\n",
       "      <td>...</td>\n",
       "      <td>...</td>\n",
       "    </tr>\n",
       "    <tr>\n",
       "      <th>Wendy's</th>\n",
       "      <td>210.0</td>\n",
       "      <td>3.971429</td>\n",
       "      <td>1.093322</td>\n",
       "      <td>1.0</td>\n",
       "      <td>3.25</td>\n",
       "      <td>4.0</td>\n",
       "      <td>5.0</td>\n",
       "      <td>5.0</td>\n",
       "    </tr>\n",
       "    <tr>\n",
       "      <th>What Lies Beneath</th>\n",
       "      <td>160.0</td>\n",
       "      <td>3.450000</td>\n",
       "      <td>1.201676</td>\n",
       "      <td>1.0</td>\n",
       "      <td>3.00</td>\n",
       "      <td>3.5</td>\n",
       "      <td>4.0</td>\n",
       "      <td>5.0</td>\n",
       "    </tr>\n",
       "    <tr>\n",
       "      <th>X-Men</th>\n",
       "      <td>245.0</td>\n",
       "      <td>4.118367</td>\n",
       "      <td>0.853074</td>\n",
       "      <td>1.0</td>\n",
       "      <td>4.00</td>\n",
       "      <td>4.0</td>\n",
       "      <td>5.0</td>\n",
       "      <td>5.0</td>\n",
       "    </tr>\n",
       "    <tr>\n",
       "      <th>X.com</th>\n",
       "      <td>173.0</td>\n",
       "      <td>4.023121</td>\n",
       "      <td>1.474409</td>\n",
       "      <td>1.0</td>\n",
       "      <td>3.00</td>\n",
       "      <td>5.0</td>\n",
       "      <td>5.0</td>\n",
       "      <td>5.0</td>\n",
       "    </tr>\n",
       "    <tr>\n",
       "      <th>eBay</th>\n",
       "      <td>596.0</td>\n",
       "      <td>4.333893</td>\n",
       "      <td>0.949618</td>\n",
       "      <td>1.0</td>\n",
       "      <td>4.00</td>\n",
       "      <td>5.0</td>\n",
       "      <td>5.0</td>\n",
       "      <td>5.0</td>\n",
       "    </tr>\n",
       "  </tbody>\n",
       "</table>\n",
       "<p>89 rows × 8 columns</p>\n",
       "</div>"
      ],
      "text/plain": [
       "                       count      mean       std  min   25%  50%  75%  max\n",
       "item                                                                      \n",
       "AOL (America Online)   939.0  2.500532  1.368528  1.0  1.00  2.0  4.0  5.0\n",
       "All Advantage          657.0  3.412481  1.541706  1.0  2.00  4.0  5.0  5.0\n",
       "Alta Vista (by 1stUp)  157.0  3.541401  1.263341  1.0  3.00  4.0  4.0  5.0\n",
       "Amazon.com             240.0  3.683333  1.571095  1.0  2.00  4.0  5.0  5.0\n",
       "American Airlines      185.0  3.054054  1.417015  1.0  2.00  3.0  4.0  5.0\n",
       "...                      ...       ...       ...  ...   ...  ...  ...  ...\n",
       "Wendy's                210.0  3.971429  1.093322  1.0  3.25  4.0  5.0  5.0\n",
       "What Lies Beneath      160.0  3.450000  1.201676  1.0  3.00  3.5  4.0  5.0\n",
       "X-Men                  245.0  4.118367  0.853074  1.0  4.00  4.0  5.0  5.0\n",
       "X.com                  173.0  4.023121  1.474409  1.0  3.00  5.0  5.0  5.0\n",
       "eBay                   596.0  4.333893  0.949618  1.0  4.00  5.0  5.0  5.0\n",
       "\n",
       "[89 rows x 8 columns]"
      ]
     },
     "execution_count": 268,
     "metadata": {},
     "output_type": "execute_result"
    }
   ],
   "source": [
    "# descriptive statistics of the number of ratings that received by each items\n",
    "\n",
    "cleaned_ecomm_data.groupby(\"item\")[\"rating\"].describe()"
   ]
  },
  {
   "cell_type": "code",
   "execution_count": 269,
   "id": "a19149b3-3b8a-488f-a137-90d6aa0788dc",
   "metadata": {},
   "outputs": [
    {
     "data": {
      "text/plain": [
       "count     89.000000\n",
       "mean     223.775281\n",
       "std      116.418988\n",
       "min      139.000000\n",
       "25%      162.000000\n",
       "50%      187.000000\n",
       "75%      245.000000\n",
       "max      939.000000\n",
       "Name: rating, dtype: float64"
      ]
     },
     "execution_count": 269,
     "metadata": {},
     "output_type": "execute_result"
    }
   ],
   "source": [
    "# descriptive statistics of the number of ratings that received by each items\n",
    "\n",
    "cleaned_ecomm_data.groupby(\"item\")[\"rating\"].count().describe()"
   ]
  },
  {
   "cell_type": "markdown",
   "id": "PISggxe5qndR",
   "metadata": {
    "id": "PISggxe5qndR"
   },
   "source": [
    "## Q3. Plotting and Analysis\n",
    "\n",
    "Please try to explore the correlation between gender/helpfulness/category and ratings; for instance, do female/male users tend to provide higher ratings than male/female users? Hint: you may use the boxplot function to plot figures for comparison (___Challenge___)\n",
    "    \n",
    "You may need to select the most suitable graphic forms for ease of presentation. Most importantly, for each figure or subfigure, please summarise ___what each plot shows___ (i.e. observations and explanations). Finally, you may need to provide an overall summary of the data."
   ]
  },
  {
   "cell_type": "markdown",
   "id": "c9722d9d-f6bb-4f4a-89dd-79dd0b584a1f",
   "metadata": {},
   "source": [
    "#### Comparing Genders and Rating"
   ]
  },
  {
   "cell_type": "code",
   "execution_count": 270,
   "id": "44e7cc7e-4a72-47e1-8581-07bdecbb528d",
   "metadata": {},
   "outputs": [
    {
     "data": {
      "text/plain": [
       "Text(0.5, 0.98, '')"
      ]
     },
     "execution_count": 270,
     "metadata": {},
     "output_type": "execute_result"
    },
    {
     "data": {
      "image/png": "[encoded data removed]",
      "text/plain": [
       "<Figure size 640x480 with 1 Axes>"
      ]
     },
     "metadata": {},
     "output_type": "display_data"
    }
   ],
   "source": [
    "# ploting graph for comparing rating with gender\n",
    "\n",
    "sns.boxplot(x = \"gender\", y = \"rating\", data = cleaned_ecomm_data)\n",
    "plt.title(\"Rating Comparison by Genders\")\n",
    "plt.suptitle(\"\")"
   ]
  },
  {
   "cell_type": "markdown",
   "id": "a661ba0a-a843-423d-8144-fd5f22ec057e",
   "metadata": {},
   "source": [
    "#### Observations and Explanations for Rating Comparison by Genders\n",
    "\n",
    "The graph titled “Rating Comparison by Genders” illustrates the comparison of ratings between genders. Both male (M) and female (F) respondents exhibit similar distributions of ratings, with a median rating of approximately 4.0. The interquartile range spans from around 3.5 to 4.5, indicating consistency in ratings across genders."
   ]
  },
  {
   "cell_type": "markdown",
   "id": "8e7078d4-c387-45a7-9f63-3dd52911d3cb",
   "metadata": {},
   "source": [
    "________________________________________________________________________________________________________________________________________________________"
   ]
  },
  {
   "cell_type": "markdown",
   "id": "2e5a35a8-e4e4-46a0-99f8-ea2ec6019ba3",
   "metadata": {},
   "source": [
    "#### Comparing Helpfulness and Rating"
   ]
  },
  {
   "cell_type": "code",
   "execution_count": 271,
   "id": "b694f3a7-9332-4905-96de-eb3f2a3e1b02",
   "metadata": {},
   "outputs": [
    {
     "data": {
      "text/plain": [
       "Text(0.5, 0.98, '')"
      ]
     },
     "execution_count": 271,
     "metadata": {},
     "output_type": "execute_result"
    },
    {
     "data": {
      "image/png": "[encoded data removed]",
      "text/plain": [
       "<Figure size 640x480 with 1 Axes>"
      ]
     },
     "metadata": {},
     "output_type": "display_data"
    }
   ],
   "source": [
    "# ploting scatter graph for comparing rating with helpfulness\n",
    "\n",
    "sns.boxplot(x = \"helpfulness\", y = \"rating\", data = cleaned_ecomm_data)\n",
    "plt.title(\"Comparing Rating with Helpfulness\")\n",
    "plt.suptitle(\"\")"
   ]
  },
  {
   "cell_type": "code",
   "execution_count": 272,
   "id": "0dd517c3-ad66-4381-a0cd-81a00bc79d87",
   "metadata": {},
   "outputs": [
    {
     "name": "stdout",
     "output_type": "stream",
     "text": [
      "Correlation coefficient of helpfulness and rating is: -0.00031926833164268585\n"
     ]
    }
   ],
   "source": [
    "# finding the correlation coefficient of helpfulness and rating\n",
    "\n",
    "correlation_coefficient = cleaned_ecomm_data[\"helpfulness\"].corr(cleaned_ecomm_data[\"rating\"])\n",
    "print(\"Correlation coefficient of helpfulness and rating is:\", correlation_coefficient)"
   ]
  },
  {
   "cell_type": "markdown",
   "id": "b3c864a5-74da-49eb-8dfa-eacece05612a",
   "metadata": {},
   "source": [
    "#### Observations and Explanations for Rating Comparison with Helpfulness\n",
    "\n",
    "The boxplot titled “Comparing Rating with Helpfulness” illustrates the relationship between ratings and helpfulness. However, no clear trend or correlation is evident. The data points are scattered randomly, and the correlation coefficient of approximately -0.003 suggests a negligible association between the two variables. In summary, helpfulness does not significantly impact ratings, according to this analysis."
   ]
  },
  {
   "cell_type": "markdown",
   "id": "fb61aacd-7537-4902-a86b-2e1d5da590fa",
   "metadata": {},
   "source": [
    "________________________________________________________________________________________________________________________________________________________"
   ]
  },
  {
   "cell_type": "markdown",
   "id": "071eaa99-4d94-427a-8f06-c68e0cabaff5",
   "metadata": {},
   "source": [
    "#### Comparing Category and Rating"
   ]
  },
  {
   "cell_type": "code",
   "execution_count": 273,
   "id": "91f82700-0a5f-4970-a1ff-1e3b04079f39",
   "metadata": {},
   "outputs": [
    {
     "data": {
      "text/plain": [
       "(array([0, 1, 2, 3, 4, 5, 6, 7, 8]),\n",
       " [Text(0, 0, 'Online Stores & Services'),\n",
       "  Text(1, 0, 'Movies'),\n",
       "  Text(2, 0, 'Restaurants & Gourmet'),\n",
       "  Text(3, 0, 'Personal Finance'),\n",
       "  Text(4, 0, 'Kids & Family'),\n",
       "  Text(5, 0, 'Hotels & Travel'),\n",
       "  Text(6, 0, 'Media'),\n",
       "  Text(7, 0, 'Games'),\n",
       "  Text(8, 0, 'Books')])"
      ]
     },
     "execution_count": 273,
     "metadata": {},
     "output_type": "execute_result"
    },
    {
     "data": {
      "image/png": "[encoded data removed]",
      "text/plain": [
       "<Figure size 640x480 with 1 Axes>"
      ]
     },
     "metadata": {},
     "output_type": "display_data"
    }
   ],
   "source": [
    "# ploting boxplot graph for comparing rating with category\n",
    "\n",
    "sns.boxplot(x = \"category\", y = \"rating\", data = cleaned_ecomm_data)\n",
    "plt.title(\"Rating Comparison by Category\")\n",
    "plt.suptitle(\"\")\n",
    "plt.xticks(rotation = 90)"
   ]
  },
  {
   "cell_type": "markdown",
   "id": "80ec0b0f-1b69-4dd5-8d7e-9182739df70e",
   "metadata": {},
   "source": [
    "#### Observations and Explanations for Rating Comparison by Category\n",
    "\n",
    "The boxplot graph titled \"Rating Comparison by Category\" portrays ratings provided by e-commerce users based on 9 categories. \n",
    "\n",
    "It can be observed that \"Books\" received the best rating, with most of the ratings of 5, among all the categories. \"Games\" also received excellent ratings, most of the ratings between 4 and 5. \"Movies\" received the third-best rating, with the majority of the ratings between 3 and 5. Whereas \"Hotels & Travel\", \"Kids & Family\", \"Online Stores & Services\", \"Personal Finance\", and \"Restaurants & Gourmet\" have received very similar ratings, with most of the ratings ranging between 2 and 5. Out of all of them, \"Media\" received the worst rating, with most of the ratings between 1 and 4 and a few ratings of 5.\n",
    "\n",
    "From this analysis, we can say \"Books\" is performing the best among all the categories, followed by \"Games\" and \"Movies\" respectively. While \"Hotels & Travel\", \"Kids & Family\", \"Online Stores & Services\", \"Personal Finance\", and \"Restaurants & Gourmet\" are performing well on a similar level. However, \"Media\" is the worst-performing category of all of them."
   ]
  },
  {
   "cell_type": "markdown",
   "id": "cb205be6-b251-415d-9ed4-0fa7033deb48",
   "metadata": {},
   "source": [
    "________________________________________________________________________________________________________________________________________________________"
   ]
  },
  {
   "cell_type": "markdown",
   "id": "7fdfa043-9885-4638-95e3-85d6941ed159",
   "metadata": {},
   "source": [
    "#### Summary of Analysis\n",
    "\n",
    "1. Rating Comparison by Genders:\n",
    "    * Insight: Both male and female respondents exhibit similar distributions of ratings, with a median rating of approximately 4.0.\n",
    "    * Observation: The consistency in ratings across genders suggests that product perception is not significantly influenced by gender.\n",
    "\n",
    "\n",
    "2. Rating Comparison with Helpfulness:\n",
    "    * Insight: There is no clear trend or correlation between ratings and helpfulness.\n",
    "    * Observation: The scatter plot shows random scattering of data points, indicating that helpfulness does not strongly impact ratings.\n",
    "\n",
    "\n",
    "3. Rating Comparison by Category:\n",
    "    * Insight: \"Books\" received the highest ratings among all categories, with most ratings at 5. \"Games\" and \"Movies\" also received excellent ratings.\n",
    "    * Observation: The worst-performing category is \"Media\", with ratings mostly between 1 and 4, while the other categories show similar ratings ranging from 2 to 5."
   ]
  },
  {
   "cell_type": "markdown",
   "id": "TxD3SLxRqndR",
   "metadata": {
    "id": "TxD3SLxRqndR"
   },
   "source": [
    "## Q4. Detect and remove outliers\n",
    "\n",
    "We may define outlier users, reviews and items with three rules (if a record meets one of the rules, it is regarded as an outlier):\n",
    "\n",
    "1. reviews of which the helpfulness is no more than 2\n",
    "2. users who rate less than 7 items\n",
    "3. items that receives less than 11 ratings\n",
    "\n",
    "Please remove the corresponding records in the csv file that involves outlier users, reviews and items. You need to follow the order of rules to perform data cleaning operations. After that, __print the length of the data__."
   ]
  },
  {
   "cell_type": "markdown",
   "id": "602141df-cf49-4ec0-aebd-844d02229395",
   "metadata": {},
   "source": [
    "#### Answer to Q4.1 Removing outliers which have helpfulness review of no more than 2"
   ]
  },
  {
   "cell_type": "code",
   "execution_count": 274,
   "id": "4254df02-86f5-4d1d-b242-2b6016482744",
   "metadata": {},
   "outputs": [],
   "source": [
    "# removing records where \"helpfulness\" is no more than 2\n",
    "\n",
    "clean_outlier_helpfulness_ecomm_data = cleaned_ecomm_data.drop(cleaned_ecomm_data[cleaned_ecomm_data[\"helpfulness\"] <= 2].index)"
   ]
  },
  {
   "cell_type": "code",
   "execution_count": 275,
   "id": "1b836fe3-80b7-420c-bd44-e2c034029eed",
   "metadata": {},
   "outputs": [
    {
     "name": "stdout",
     "output_type": "stream",
     "text": [
      "The number of records after removing helpfulness reviews no more than 2: 13643\n"
     ]
    }
   ],
   "source": [
    "# printing the number of records after removing records based on helpfulness criteria\n",
    "\n",
    "print(\"The number of records after removing helpfulness reviews no more than 2:\", len(clean_outlier_helpfulness_ecomm_data))"
   ]
  },
  {
   "cell_type": "markdown",
   "id": "fbb2c264-3ddd-415d-99c8-04882e62928f",
   "metadata": {},
   "source": [
    "#### Answer to Q4.2 Removing outliers where users have rated less than 7 items"
   ]
  },
  {
   "cell_type": "code",
   "execution_count": 276,
   "id": "d16d8898-b223-46b3-ace1-2b1a7b0d6834",
   "metadata": {},
   "outputs": [],
   "source": [
    "# removing records where users have rated less than 7 items\n",
    "\n",
    "criteria_users_rating = clean_outlier_helpfulness_ecomm_data.groupby(\"userId\")[\"rating\"].transform(\"count\") >= 7\n",
    "clean_outlier_user_rating_ecomm_data = clean_outlier_helpfulness_ecomm_data[criteria_users_rating]"
   ]
  },
  {
   "cell_type": "code",
   "execution_count": 277,
   "id": "0506b698-1e1e-4076-9bcb-b16580f43179",
   "metadata": {},
   "outputs": [
    {
     "name": "stdout",
     "output_type": "stream",
     "text": [
      "The number of records after removing users who rated less than 7 items: 2741\n"
     ]
    }
   ],
   "source": [
    "# printing the number of records after removing records based on user rating criteria\n",
    "\n",
    "print(\"The number of records after removing users who rated less than 7 items:\", len(clean_outlier_user_rating_ecomm_data))"
   ]
  },
  {
   "cell_type": "markdown",
   "id": "fe7de2f6-3789-4a1c-b161-8fae4f6b3a58",
   "metadata": {},
   "source": [
    "#### Answer to Q4.3 Removing outliers where items have received less than 11 ratings"
   ]
  },
  {
   "cell_type": "code",
   "execution_count": 278,
   "id": "93008c03-eb2d-4535-9a06-00740db1272d",
   "metadata": {},
   "outputs": [],
   "source": [
    "# removing records where items have received less than 7 ratings\n",
    "\n",
    "criteria_items_rating = clean_outlier_user_rating_ecomm_data.groupby(\"item\")[\"rating\"].transform(\"count\") >= 11\n",
    "final_ecomm_data = clean_outlier_user_rating_ecomm_data[criteria_items_rating]"
   ]
  },
  {
   "cell_type": "markdown",
   "id": "6b9c786c-fa63-498c-90b6-e5407e53d63f",
   "metadata": {},
   "source": [
    "#### Printing the length of data after performing the cleaning operations"
   ]
  },
  {
   "cell_type": "code",
   "execution_count": 279,
   "id": "257f8250-b280-4455-817d-c09ccde11330",
   "metadata": {},
   "outputs": [
    {
     "name": "stdout",
     "output_type": "stream",
     "text": [
      "The number of records after removing all outliers: 2685\n"
     ]
    }
   ],
   "source": [
    "# printing the number of records after removing records based on the item rating criteriaw\n",
    "\n",
    "print(\"The number of records after removing all outliers:\", len(final_ecomm_data))"
   ]
  }
 ],
 "metadata": {
  "colab": {
   "provenance": []
  },
  "kernelspec": {
   "display_name": "Python 3 (ipykernel)",
   "language": "python",
   "name": "python3"
  },
  "language_info": {
   "codemirror_mode": {
    "name": "ipython",
    "version": 3
   },
   "file_extension": ".py",
   "mimetype": "text/x-python",
   "name": "python",
   "nbconvert_exporter": "python",
   "pygments_lexer": "ipython3",
   "version": "3.11.7"
  }
 },
 "nbformat": 4,
 "nbformat_minor": 5
}
